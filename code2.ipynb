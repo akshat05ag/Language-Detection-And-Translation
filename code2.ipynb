{
 "cells": [
  {
   "cell_type": "code",
   "execution_count": 9,
   "id": "458aadcc-5f1d-484e-89ea-59e9ca6ce84a",
   "metadata": {},
   "outputs": [
    {
     "name": "stdout",
     "output_type": "stream",
     "text": [
      "Requirement already satisfied: langdetect in c:\\users\\lenovo\\anaconda3\\anaconda\\lib\\site-packages (1.0.9)Note: you may need to restart the kernel to use updated packages.\n",
      "\n",
      "Requirement already satisfied: six in c:\\users\\lenovo\\anaconda3\\anaconda\\lib\\site-packages (from langdetect) (1.16.0)\n"
     ]
    }
   ],
   "source": [
    "pip install langdetect"
   ]
  },
  {
   "cell_type": "code",
   "execution_count": 10,
   "id": "33eab88f-eee6-49d3-b050-e0a32904f837",
   "metadata": {},
   "outputs": [
    {
     "name": "stdout",
     "output_type": "stream",
     "text": [
      "Detect Language : ur\n",
      "Probability  [ur:0.999999246445326]\n"
     ]
    }
   ],
   "source": [
    "from langdetect import detect,detect_langs,DetectorFactory\n",
    "DetectorFactory.seed = 0\n",
    "\n",
    "\n",
    "sentence = \"آج کا دن بہت خوبصورت ہے\"\n",
    "\n",
    "print(\"Detect Language :\", detect(sentence))\n",
    "print(\"Probability \",detect_langs(sentence))"
   ]
  },
  {
   "cell_type": "code",
   "execution_count": 12,
   "id": "2b9dda7d-aade-4929-9f3d-214dcf036243",
   "metadata": {},
   "outputs": [
    {
     "name": "stdout",
     "output_type": "stream",
     "text": [
      "Detect Language: hi\n",
      "Probability: [hi:0.9999977479090416]\n"
     ]
    }
   ],
   "source": [
    "sentence = \"आज का दिन बहुत खूबसूरत है\"\n",
    "\n",
    "print(\"Detect Language:\", detect(sentence))\n",
    "print(\"Probability:\", detect_langs(sentence))"
   ]
  },
  {
   "cell_type": "code",
   "execution_count": 16,
   "id": "d5b752a2-792b-4796-81d3-bdd16df1597f",
   "metadata": {},
   "outputs": [
    {
     "name": "stdout",
     "output_type": "stream",
     "text": [
      "Requirement already satisfied: googletrans-py in c:\\users\\lenovo\\anaconda3\\anaconda\\lib\\site-packages (4.0.0)\n",
      "Requirement already satisfied: httpx>=0.22.0 in c:\\users\\lenovo\\anaconda3\\anaconda\\lib\\site-packages (from googletrans-py) (0.27.2)\n",
      "Requirement already satisfied: h2<5,>=4 in c:\\users\\lenovo\\anaconda3\\anaconda\\lib\\site-packages (from googletrans-py) (4.1.0)\n",
      "Requirement already satisfied: hyperframe<7,>=6.0 in c:\\users\\lenovo\\anaconda3\\anaconda\\lib\\site-packages (from h2<5,>=4->googletrans-py) (6.0.1)\n",
      "Requirement already satisfied: hpack<5,>=4.0 in c:\\users\\lenovo\\anaconda3\\anaconda\\lib\\site-packages (from h2<5,>=4->googletrans-py) (4.0.0)\n",
      "Requirement already satisfied: anyio in c:\\users\\lenovo\\anaconda3\\anaconda\\lib\\site-packages (from httpx>=0.22.0->googletrans-py) (4.2.0)\n",
      "Requirement already satisfied: certifi in c:\\users\\lenovo\\anaconda3\\anaconda\\lib\\site-packages (from httpx>=0.22.0->googletrans-py) (2024.6.2)\n",
      "Requirement already satisfied: httpcore==1.* in c:\\users\\lenovo\\anaconda3\\anaconda\\lib\\site-packages (from httpx>=0.22.0->googletrans-py) (1.0.5)\n",
      "Requirement already satisfied: idna in c:\\users\\lenovo\\anaconda3\\anaconda\\lib\\site-packages (from httpx>=0.22.0->googletrans-py) (2.10)\n",
      "Requirement already satisfied: sniffio in c:\\users\\lenovo\\anaconda3\\anaconda\\lib\\site-packages (from httpx>=0.22.0->googletrans-py) (1.3.0)\n",
      "Requirement already satisfied: h11<0.15,>=0.13 in c:\\users\\lenovo\\anaconda3\\anaconda\\lib\\site-packages (from httpcore==1.*->httpx>=0.22.0->googletrans-py) (0.14.0)\n",
      "Note: you may need to restart the kernel to use updated packages.\n"
     ]
    }
   ],
   "source": [
    "pip install googletrans-py"
   ]
  },
  {
   "cell_type": "code",
   "execution_count": 17,
   "id": "9ed7dafd-e245-4421-bdc6-8259f25ed8e8",
   "metadata": {},
   "outputs": [
    {
     "name": "stdout",
     "output_type": "stream",
     "text": [
      "Translated Text: Today's day is very beautiful\n"
     ]
    }
   ],
   "source": [
    "from googletrans import Translator\n",
    "\n",
    "translator = Translator()\n",
    "\n",
    "sentence = \"آج کا دن بہت خوبصورت ہے\"\n",
    "translate_text = translator.translate(sentence, src='ur', dest='en')\n",
    "\n",
    "print(\"Translated Text:\", translate_text.text)"
   ]
  },
  {
   "cell_type": "code",
   "execution_count": 23,
   "id": "a84b6e75-ec4c-49fb-be2a-a6e2964d5e04",
   "metadata": {},
   "outputs": [
    {
     "name": "stdout",
     "output_type": "stream",
     "text": [
      "Translated Text: Today is very beautiful\n"
     ]
    }
   ],
   "source": [
    "sentence =  \"आज का दिन बहुत खूबसूरत है\"\n",
    "translate_text = translator.translate(sentence, src='hi', dest='en')\n",
    "\n",
    "print(\"Translated Text:\", translate_text.text)"
   ]
  },
  {
   "cell_type": "code",
   "execution_count": 27,
   "id": "d7e7807a-f501-4cbe-bfb6-65f857710e57",
   "metadata": {},
   "outputs": [],
   "source": [
    "from langdetect import detect\n",
    "from googletrans import Translator\n",
    "\n",
    "def detect_and_translate(text, target_lang):\n",
    "    # Detect language\n",
    "    result_lang = detect(text)\n",
    "    \n",
    "    # Translate language\n",
    "    translator = Translator()\n",
    "    translate_text = translator.translate(text, dest=target_lang).text\n",
    "\n",
    "    return result_lang, translate_text "
   ]
  },
  {
   "cell_type": "code",
   "execution_count": 29,
   "id": "1d35cf5a-e04e-479f-b7a9-368c2da06e2e",
   "metadata": {},
   "outputs": [
    {
     "name": "stdout",
     "output_type": "stream",
     "text": [
      "Language: hi\n",
      "Translation: Today is very beautiful\n"
     ]
    }
   ],
   "source": [
    "# example 1\n",
    "# Sample sentence in Hindi\n",
    "sentence = \"आज का दिन बहुत खूबसूरत है\"\n",
    "\n",
    "# Detect and translate\n",
    "result_lang, translate_text = detect_and_translate(sentence, target_lang='en')\n",
    "\n",
    "print(\"Language:\", result_lang)\n",
    "print(\"Translation:\", translate_text)"
   ]
  }
 ],
 "metadata": {
  "kernelspec": {
   "display_name": "Python 3 (ipykernel)",
   "language": "python",
   "name": "python3"
  },
  "language_info": {
   "codemirror_mode": {
    "name": "ipython",
    "version": 3
   },
   "file_extension": ".py",
   "mimetype": "text/x-python",
   "name": "python",
   "nbconvert_exporter": "python",
   "pygments_lexer": "ipython3",
   "version": "3.12.4"
  }
 },
 "nbformat": 4,
 "nbformat_minor": 5
}
